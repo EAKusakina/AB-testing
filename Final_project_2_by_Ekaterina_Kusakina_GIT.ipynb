{
 "cells": [
  {
   "cell_type": "code",
   "execution_count": 18,
   "metadata": {},
   "outputs": [],
   "source": [
    "import requests\n",
    "from urllib.parse import urlencode\n",
    "import pandas as pd\n",
    "import numpy as np\n",
    "from scipy.stats import norm\n",
    "import math\n",
    "\n",
    "from tqdm.auto import tqdm\n",
    "\n",
    "import seaborn as sns\n",
    "import matplotlib.pyplot as plt\n",
    "plt.style.use('ggplot')\n",
    "%matplotlib inline"
   ]
  },
  {
   "cell_type": "markdown",
   "metadata": {},
   "source": [
    "## Задание 1. A/B–тестирование"
   ]
  },
  {
   "cell_type": "markdown",
   "metadata": {},
   "source": [
    "### 1.1 Постановка задачи"
   ]
  },
  {
   "cell_type": "markdown",
   "metadata": {},
   "source": [
    "Одной из основных задач аналитика является корректное проведение экспериментов с помощью A/B–тестирования. В ходе тестирования одной гипотезы целевой группе посетителей сайта была предложена новая механика оплаты услуг на сайте, у контрольной группы оставалась базовая механика. \n",
    "\n",
    "Необходимо проанализировать итоги эксперимента и сделать вывод, стоит ли запускать новую механику оплаты на всех посетителей сайта."
   ]
  },
  {
   "cell_type": "markdown",
   "metadata": {},
   "source": [
    "### 1.2 Входные данные"
   ]
  },
  {
   "cell_type": "markdown",
   "metadata": {},
   "source": [
    "В качестве входных данных есть 4 csv-файла:\n",
    "\n",
    "* groups.csv - файл с информацией о принадлежности пользователя к контрольной или экспериментальной группе (А – контроль, B – целевая группа) \n",
    "\n",
    "* groups_add.csv - дополнительный файл с пользователями, который вам прислали спустя 2 дня после передачи данных\n",
    "\n",
    "* active_studs.csv - файл с информацией о пользователях, которые зашли на платформу в дни проведения эксперимента. \n",
    "\n",
    "* checks.csv - файл с информацией об оплатах пользователей в дни проведения эксперимента. "
   ]
  },
  {
   "cell_type": "markdown",
   "metadata": {},
   "source": [
    "### 1.3 Решение"
   ]
  },
  {
   "cell_type": "markdown",
   "metadata": {},
   "source": [
    "Для начала определимся с метриками, которые будем использовать в исследовании.\n",
    "\n",
    "Что может являться целью введения новой механики оплаты услуг на сайте? \n",
    "\n",
    "1. Увеличение среднего чека (например, если новый дизайн позволяет добавлять товары в заказ в процессе оформления заказа в корзине);\n",
    "\n",
    "\n",
    "2. Увеличение количества оплат на сайте (например, когда новая механика - это удобная оплата в пару кликов).\n",
    "\n",
    "Следовательно, необходимо проверить как повлияла новая механика оплаты услуг на:\n",
    "\n",
    "1. ARPPU (Average revenue per paying user) - средний доход на платящего пользователя (то есть клиента). Рассчитывается как отношение дохода(выручки) к количеству клиентов;\n",
    "\n",
    "2. ARPU (Average revenue per user) - cредний доход с привлечённого пользователя (посетителя сайта). Рассчитывается как отношение дохода(выручки) к количеству посетителей сайта.\n",
    "\n",
    "3. Конверсию (conversion rate, CR) — отношение числа пользователей, которые совершили покупку, к общему числу пользователей, которые заходили на сайт во время проведения эксперимента.\n"
   ]
  },
  {
   "cell_type": "markdown",
   "metadata": {},
   "source": [
    "#### Первичное исследование данных"
   ]
  },
  {
   "cell_type": "code",
   "execution_count": 19,
   "metadata": {},
   "outputs": [],
   "source": [
    "def get_download_url(public_key):\n",
    "    \"\"\"\n",
    "    Функция для формирования ссылки на csv-файл.\n",
    "    public_key - ссылка на загружаемый csv-файл на Яндекс.Диске.\n",
    "    \"\"\"   \n",
    "    base_url = 'https://cloud-api.yandex.net/v1/disk/public/resources/download?'\n",
    "    # Получаем загрузочную ссылку\n",
    "    final_url = base_url + urlencode(dict(public_key=public_key))\n",
    "    # Запрос ссылки на скачивание\n",
    "    response = requests.get(final_url) \n",
    "    # 'Парсинг' ссылки на скачивание\n",
    "    download_url = response.json()['href']\n",
    "    return download_url"
   ]
  },
  {
   "cell_type": "code",
   "execution_count": 20,
   "metadata": {},
   "outputs": [
    {
     "data": {
      "text/html": [
       "<div>\n",
       "<style scoped>\n",
       "    .dataframe tbody tr th:only-of-type {\n",
       "        vertical-align: middle;\n",
       "    }\n",
       "\n",
       "    .dataframe tbody tr th {\n",
       "        vertical-align: top;\n",
       "    }\n",
       "\n",
       "    .dataframe thead th {\n",
       "        text-align: right;\n",
       "    }\n",
       "</style>\n",
       "<table border=\"1\" class=\"dataframe\">\n",
       "  <thead>\n",
       "    <tr style=\"text-align: right;\">\n",
       "      <th></th>\n",
       "      <th>id</th>\n",
       "      <th>grp</th>\n",
       "    </tr>\n",
       "  </thead>\n",
       "  <tbody>\n",
       "    <tr>\n",
       "      <th>0</th>\n",
       "      <td>1489</td>\n",
       "      <td>B</td>\n",
       "    </tr>\n",
       "    <tr>\n",
       "      <th>1</th>\n",
       "      <td>1627</td>\n",
       "      <td>A</td>\n",
       "    </tr>\n",
       "    <tr>\n",
       "      <th>2</th>\n",
       "      <td>1768</td>\n",
       "      <td>B</td>\n",
       "    </tr>\n",
       "    <tr>\n",
       "      <th>3</th>\n",
       "      <td>1783</td>\n",
       "      <td>B</td>\n",
       "    </tr>\n",
       "    <tr>\n",
       "      <th>4</th>\n",
       "      <td>1794</td>\n",
       "      <td>A</td>\n",
       "    </tr>\n",
       "  </tbody>\n",
       "</table>\n",
       "</div>"
      ],
      "text/plain": [
       "     id grp\n",
       "0  1489   B\n",
       "1  1627   A\n",
       "2  1768   B\n",
       "3  1783   B\n",
       "4  1794   A"
      ]
     },
     "execution_count": 20,
     "metadata": {},
     "output_type": "execute_result"
    }
   ],
   "source": [
    "# Загружаем groups.csv в pandas dataframe и выводим первые 5 строк, чтобы убедиться в корректности загрузки \n",
    "groups = pd.read_csv(get_download_url('https://disk.yandex.ru/d/58Us0DWOzuWAjg'), sep=';')\n",
    "groups.head()"
   ]
  },
  {
   "cell_type": "code",
   "execution_count": 9,
   "metadata": {},
   "outputs": [
    {
     "data": {
      "text/html": [
       "<div>\n",
       "<style scoped>\n",
       "    .dataframe tbody tr th:only-of-type {\n",
       "        vertical-align: middle;\n",
       "    }\n",
       "\n",
       "    .dataframe tbody tr th {\n",
       "        vertical-align: top;\n",
       "    }\n",
       "\n",
       "    .dataframe thead th {\n",
       "        text-align: right;\n",
       "    }\n",
       "</style>\n",
       "<table border=\"1\" class=\"dataframe\">\n",
       "  <thead>\n",
       "    <tr style=\"text-align: right;\">\n",
       "      <th></th>\n",
       "      <th>id</th>\n",
       "      <th>grp</th>\n",
       "    </tr>\n",
       "  </thead>\n",
       "  <tbody>\n",
       "    <tr>\n",
       "      <th>count</th>\n",
       "      <td>7.448400e+04</td>\n",
       "      <td>74484</td>\n",
       "    </tr>\n",
       "    <tr>\n",
       "      <th>unique</th>\n",
       "      <td>NaN</td>\n",
       "      <td>2</td>\n",
       "    </tr>\n",
       "    <tr>\n",
       "      <th>top</th>\n",
       "      <td>NaN</td>\n",
       "      <td>B</td>\n",
       "    </tr>\n",
       "    <tr>\n",
       "      <th>freq</th>\n",
       "      <td>NaN</td>\n",
       "      <td>59813</td>\n",
       "    </tr>\n",
       "    <tr>\n",
       "      <th>mean</th>\n",
       "      <td>2.133752e+06</td>\n",
       "      <td>NaN</td>\n",
       "    </tr>\n",
       "    <tr>\n",
       "      <th>std</th>\n",
       "      <td>1.531423e+06</td>\n",
       "      <td>NaN</td>\n",
       "    </tr>\n",
       "    <tr>\n",
       "      <th>min</th>\n",
       "      <td>1.489000e+03</td>\n",
       "      <td>NaN</td>\n",
       "    </tr>\n",
       "    <tr>\n",
       "      <th>25%</th>\n",
       "      <td>9.174980e+05</td>\n",
       "      <td>NaN</td>\n",
       "    </tr>\n",
       "    <tr>\n",
       "      <th>50%</th>\n",
       "      <td>1.667190e+06</td>\n",
       "      <td>NaN</td>\n",
       "    </tr>\n",
       "    <tr>\n",
       "      <th>75%</th>\n",
       "      <td>3.322955e+06</td>\n",
       "      <td>NaN</td>\n",
       "    </tr>\n",
       "    <tr>\n",
       "      <th>max</th>\n",
       "      <td>5.694419e+06</td>\n",
       "      <td>NaN</td>\n",
       "    </tr>\n",
       "  </tbody>\n",
       "</table>\n",
       "</div>"
      ],
      "text/plain": [
       "                  id    grp\n",
       "count   7.448400e+04  74484\n",
       "unique           NaN      2\n",
       "top              NaN      B\n",
       "freq             NaN  59813\n",
       "mean    2.133752e+06    NaN\n",
       "std     1.531423e+06    NaN\n",
       "min     1.489000e+03    NaN\n",
       "25%     9.174980e+05    NaN\n",
       "50%     1.667190e+06    NaN\n",
       "75%     3.322955e+06    NaN\n",
       "max     5.694419e+06    NaN"
      ]
     },
     "execution_count": 9,
     "metadata": {},
     "output_type": "execute_result"
    }
   ],
   "source": [
    "# Посмотрим на описательные статистики датафрейма\n",
    "groups.describe(include='all')  "
   ]
  },
  {
   "cell_type": "markdown",
   "metadata": {},
   "source": [
    "Всего в датафрейме 74 484 записи, в тестовой группе (\"В\") 59 813, в контрольной (\"А\")  74 484 - 59 813 = 14 671. "
   ]
  },
  {
   "cell_type": "code",
   "execution_count": 7,
   "metadata": {},
   "outputs": [],
   "source": [
    "def show_piechart(groups, title):\n",
    "    \"\"\"\n",
    "    Функция для вывода piechart, иллюстрирующего соотношение количества пользователей в группах А и В.\n",
    "    groups - датафрейм с колонкой \"grp\", на основании которой строится piechart.\n",
    "    title - заголовок piechart.\n",
    "    \"\"\"   \n",
    "    # Количество пользователей в контрольной группе\n",
    "    count_control = groups[groups['grp'] == 'A'].count()[0]\n",
    "    # Количество пользователей в экспериментальной(тестовой) группе\n",
    "    count_test = groups[groups['grp'] == 'B'].count()[0]\n",
    "    df = pd.DataFrame({'count': [count_control, count_test]},\n",
    "                      index=['Control', 'Test'])\n",
    "    plot = df.plot.pie(y='count', figsize=(5, 5), labels=[count_control, count_test])\n",
    "    plot.set_title(title)\n",
    "    \n",
    "    labels = ['Control group {:.2f}%'.format(100 * count_control / (count_control + count_test)),\n",
    "              'Test group {:.2f}%'.format(100 * count_test / (count_control + count_test))]\n",
    "    plot.legend(labels, loc=\"best\")\n",
    "    None"
   ]
  },
  {
   "cell_type": "code",
   "execution_count": 5,
   "metadata": {},
   "outputs": [
    {
     "data": {
      "image/png": "[encoded data removed]",
      "text/plain": [
       "<Figure size 360x360 with 1 Axes>"
      ]
     },
     "metadata": {},
     "output_type": "display_data"
    }
   ],
   "source": [
    "show_piechart(groups, 'Соотношение пользователей в контрольной и экспериментальной (тестовой) группах')"
   ]
  },
  {
   "cell_type": "markdown",
   "metadata": {},
   "source": [
    "Отметим, что изначально количество пользователей в экспериментальной группе в 4,08 раза превышает количество пользователей в контрольной группе. "
   ]
  },
  {
   "cell_type": "code",
   "execution_count": 23,
   "metadata": {},
   "outputs": [
    {
     "data": {
      "text/html": [
       "<div>\n",
       "<style scoped>\n",
       "    .dataframe tbody tr th:only-of-type {\n",
       "        vertical-align: middle;\n",
       "    }\n",
       "\n",
       "    .dataframe tbody tr th {\n",
       "        vertical-align: top;\n",
       "    }\n",
       "\n",
       "    .dataframe thead th {\n",
       "        text-align: right;\n",
       "    }\n",
       "</style>\n",
       "<table border=\"1\" class=\"dataframe\">\n",
       "  <thead>\n",
       "    <tr style=\"text-align: right;\">\n",
       "      <th></th>\n",
       "      <th>student_id</th>\n",
       "    </tr>\n",
       "  </thead>\n",
       "  <tbody>\n",
       "    <tr>\n",
       "      <th>0</th>\n",
       "      <td>581585</td>\n",
       "    </tr>\n",
       "    <tr>\n",
       "      <th>1</th>\n",
       "      <td>5723133</td>\n",
       "    </tr>\n",
       "    <tr>\n",
       "      <th>2</th>\n",
       "      <td>3276743</td>\n",
       "    </tr>\n",
       "    <tr>\n",
       "      <th>3</th>\n",
       "      <td>4238589</td>\n",
       "    </tr>\n",
       "    <tr>\n",
       "      <th>4</th>\n",
       "      <td>4475369</td>\n",
       "    </tr>\n",
       "  </tbody>\n",
       "</table>\n",
       "</div>"
      ],
      "text/plain": [
       "   student_id\n",
       "0      581585\n",
       "1     5723133\n",
       "2     3276743\n",
       "3     4238589\n",
       "4     4475369"
      ]
     },
     "execution_count": 23,
     "metadata": {},
     "output_type": "execute_result"
    }
   ],
   "source": [
    "# Загружаем active_studs.csv в pandas dataframe и выводим первые 5 строк, чтобы убедиться в корректности загрузки \n",
    "active_studs = pd.read_csv(get_download_url('https://disk.yandex.ru/d/prbgU-rZpiXVYg'), sep=',')\n",
    "active_studs.head()"
   ]
  },
  {
   "cell_type": "code",
   "execution_count": 24,
   "metadata": {},
   "outputs": [
    {
     "data": {
      "text/html": [
       "<div>\n",
       "<style scoped>\n",
       "    .dataframe tbody tr th:only-of-type {\n",
       "        vertical-align: middle;\n",
       "    }\n",
       "\n",
       "    .dataframe tbody tr th {\n",
       "        vertical-align: top;\n",
       "    }\n",
       "\n",
       "    .dataframe thead th {\n",
       "        text-align: right;\n",
       "    }\n",
       "</style>\n",
       "<table border=\"1\" class=\"dataframe\">\n",
       "  <thead>\n",
       "    <tr style=\"text-align: right;\">\n",
       "      <th></th>\n",
       "      <th>student_id</th>\n",
       "      <th>rev</th>\n",
       "    </tr>\n",
       "  </thead>\n",
       "  <tbody>\n",
       "    <tr>\n",
       "      <th>0</th>\n",
       "      <td>1627</td>\n",
       "      <td>990.0</td>\n",
       "    </tr>\n",
       "    <tr>\n",
       "      <th>1</th>\n",
       "      <td>3185</td>\n",
       "      <td>690.0</td>\n",
       "    </tr>\n",
       "    <tr>\n",
       "      <th>2</th>\n",
       "      <td>25973</td>\n",
       "      <td>690.0</td>\n",
       "    </tr>\n",
       "    <tr>\n",
       "      <th>3</th>\n",
       "      <td>26280</td>\n",
       "      <td>690.0</td>\n",
       "    </tr>\n",
       "    <tr>\n",
       "      <th>4</th>\n",
       "      <td>100300</td>\n",
       "      <td>990.0</td>\n",
       "    </tr>\n",
       "  </tbody>\n",
       "</table>\n",
       "</div>"
      ],
      "text/plain": [
       "   student_id    rev\n",
       "0        1627  990.0\n",
       "1        3185  690.0\n",
       "2       25973  690.0\n",
       "3       26280  690.0\n",
       "4      100300  990.0"
      ]
     },
     "execution_count": 24,
     "metadata": {},
     "output_type": "execute_result"
    }
   ],
   "source": [
    "# Загружаем checks.csv в pandas dataframe и выводим первые 5 строк, чтобы убедиться в корректности загрузки \n",
    "checks = pd.read_csv(get_download_url('https://disk.yandex.ru/d/84hTmELphW2sqQ'), sep=';')\n",
    "checks.head()"
   ]
  },
  {
   "cell_type": "markdown",
   "metadata": {},
   "source": [
    "Проверим, есть ли в checks(т.е. среди совершавших оплаты в дни эксперимента) такие, кто не попал в active_studs:"
   ]
  },
  {
   "cell_type": "code",
   "execution_count": 29,
   "metadata": {},
   "outputs": [
    {
     "data": {
      "text/plain": [
       "149"
      ]
     },
     "execution_count": 29,
     "metadata": {},
     "output_type": "execute_result"
    }
   ],
   "source": [
    "checks[~checks['student_id'].isin(active_studs['student_id'])]['student_id'].nunique()"
   ]
  },
  {
   "cell_type": "markdown",
   "metadata": {},
   "source": [
    "Действительно, выявлено 149 студентов, которые по какой-то причине не попали в файл с active_studs, хотя они совершали оплаты в дни проведения эксперимента и, следовательно, заходили на платформу. \n",
    "\n",
    "Добавим их student_id в active_studs:"
   ]
  },
  {
   "cell_type": "code",
   "execution_count": 30,
   "metadata": {},
   "outputs": [],
   "source": [
    "active_studs_ext = pd.concat([active_studs, checks[~checks['student_id'].isin(active_studs['student_id'])]])\n",
    "active_studs_ext = active_studs_ext.drop(['rev'], axis=1)"
   ]
  },
  {
   "cell_type": "code",
   "execution_count": 31,
   "metadata": {},
   "outputs": [],
   "source": [
    "# Оплаты пользователей, которые зашли на сайт в дни проведения экперимента\n",
    "active_checks = active_studs_ext.merge(checks, how='left', left_on='student_id', right_on='student_id')"
   ]
  },
  {
   "cell_type": "code",
   "execution_count": 32,
   "metadata": {},
   "outputs": [
    {
     "data": {
      "text/html": [
       "<div>\n",
       "<style scoped>\n",
       "    .dataframe tbody tr th:only-of-type {\n",
       "        vertical-align: middle;\n",
       "    }\n",
       "\n",
       "    .dataframe tbody tr th {\n",
       "        vertical-align: top;\n",
       "    }\n",
       "\n",
       "    .dataframe thead th {\n",
       "        text-align: right;\n",
       "    }\n",
       "</style>\n",
       "<table border=\"1\" class=\"dataframe\">\n",
       "  <thead>\n",
       "    <tr style=\"text-align: right;\">\n",
       "      <th></th>\n",
       "      <th>student_id</th>\n",
       "      <th>rev</th>\n",
       "      <th>grp</th>\n",
       "    </tr>\n",
       "  </thead>\n",
       "  <tbody>\n",
       "    <tr>\n",
       "      <th>0</th>\n",
       "      <td>581585</td>\n",
       "      <td>NaN</td>\n",
       "      <td>A</td>\n",
       "    </tr>\n",
       "    <tr>\n",
       "      <th>1</th>\n",
       "      <td>5723133</td>\n",
       "      <td>NaN</td>\n",
       "      <td>NaN</td>\n",
       "    </tr>\n",
       "    <tr>\n",
       "      <th>2</th>\n",
       "      <td>3276743</td>\n",
       "      <td>NaN</td>\n",
       "      <td>B</td>\n",
       "    </tr>\n",
       "    <tr>\n",
       "      <th>3</th>\n",
       "      <td>4238589</td>\n",
       "      <td>NaN</td>\n",
       "      <td>A</td>\n",
       "    </tr>\n",
       "    <tr>\n",
       "      <th>4</th>\n",
       "      <td>4475369</td>\n",
       "      <td>NaN</td>\n",
       "      <td>B</td>\n",
       "    </tr>\n",
       "  </tbody>\n",
       "</table>\n",
       "</div>"
      ],
      "text/plain": [
       "   student_id  rev  grp\n",
       "0      581585  NaN    A\n",
       "1     5723133  NaN  NaN\n",
       "2     3276743  NaN    B\n",
       "3     4238589  NaN    A\n",
       "4     4475369  NaN    B"
      ]
     },
     "execution_count": 32,
     "metadata": {},
     "output_type": "execute_result"
    }
   ],
   "source": [
    "# Датафрейм с распределением  по группам пользователей, которые зашли на сайт в дни проведения экперимента\n",
    "df = active_checks.merge(groups, how='left', left_on='student_id', right_on='id').drop(['id'], axis=1)\n",
    "df.head()"
   ]
  },
  {
   "cell_type": "code",
   "execution_count": 33,
   "metadata": {},
   "outputs": [
    {
     "data": {
      "text/plain": [
       "13"
      ]
     },
     "execution_count": 33,
     "metadata": {},
     "output_type": "execute_result"
    }
   ],
   "source": [
    "# Посмотрим, сколько пользователей не принадлежат ни к одной группе (NaN в качестве значения grp); \n",
    "# возможно, эти пользователи есть в файле, который прислали через 2 дня после начала эксперимента)\n",
    "df[df['grp'].isna()]['student_id'].count()"
   ]
  },
  {
   "cell_type": "code",
   "execution_count": 34,
   "metadata": {},
   "outputs": [
    {
     "data": {
      "text/plain": [
       "(8490, 3)"
      ]
     },
     "execution_count": 34,
     "metadata": {},
     "output_type": "execute_result"
    }
   ],
   "source": [
    "df.shape"
   ]
  },
  {
   "cell_type": "code",
   "execution_count": 35,
   "metadata": {},
   "outputs": [
    {
     "data": {
      "text/html": [
       "<div>\n",
       "<style scoped>\n",
       "    .dataframe tbody tr th:only-of-type {\n",
       "        vertical-align: middle;\n",
       "    }\n",
       "\n",
       "    .dataframe tbody tr th {\n",
       "        vertical-align: top;\n",
       "    }\n",
       "\n",
       "    .dataframe thead th {\n",
       "        text-align: right;\n",
       "    }\n",
       "</style>\n",
       "<table border=\"1\" class=\"dataframe\">\n",
       "  <thead>\n",
       "    <tr style=\"text-align: right;\">\n",
       "      <th></th>\n",
       "      <th>student_id</th>\n",
       "      <th>rev</th>\n",
       "      <th>grp</th>\n",
       "    </tr>\n",
       "  </thead>\n",
       "  <tbody>\n",
       "    <tr>\n",
       "      <th>0</th>\n",
       "      <td>581585</td>\n",
       "      <td>0.0</td>\n",
       "      <td>A</td>\n",
       "    </tr>\n",
       "    <tr>\n",
       "      <th>1</th>\n",
       "      <td>5723133</td>\n",
       "      <td>0.0</td>\n",
       "      <td>NaN</td>\n",
       "    </tr>\n",
       "    <tr>\n",
       "      <th>2</th>\n",
       "      <td>3276743</td>\n",
       "      <td>0.0</td>\n",
       "      <td>B</td>\n",
       "    </tr>\n",
       "    <tr>\n",
       "      <th>3</th>\n",
       "      <td>4238589</td>\n",
       "      <td>0.0</td>\n",
       "      <td>A</td>\n",
       "    </tr>\n",
       "    <tr>\n",
       "      <th>4</th>\n",
       "      <td>4475369</td>\n",
       "      <td>0.0</td>\n",
       "      <td>B</td>\n",
       "    </tr>\n",
       "  </tbody>\n",
       "</table>\n",
       "</div>"
      ],
      "text/plain": [
       "   student_id  rev  grp\n",
       "0      581585  0.0    A\n",
       "1     5723133  0.0  NaN\n",
       "2     3276743  0.0    B\n",
       "3     4238589  0.0    A\n",
       "4     4475369  0.0    B"
      ]
     },
     "execution_count": 35,
     "metadata": {},
     "output_type": "execute_result"
    }
   ],
   "source": [
    "# Заменим NaN в столбце rev на 0.0 - деньги не могут быть NaN\n",
    "df['rev'] = df['rev'].fillna(0.)\n",
    "df.head()"
   ]
  },
  {
   "cell_type": "code",
   "execution_count": 36,
   "metadata": {},
   "outputs": [
    {
     "data": {
      "image/png": "[encoded data removed]",
      "text/plain": [
       "<Figure size 360x360 with 1 Axes>"
      ]
     },
     "metadata": {},
     "output_type": "display_data"
    }
   ],
   "source": [
    "show_piechart(df, 'Соотношение активных пользователей в контрольной и экспериментальной (тестовой) группах')"
   ]
  },
  {
   "cell_type": "code",
   "execution_count": 706,
   "metadata": {},
   "outputs": [
    {
     "data": {
      "text/plain": [
       "0"
      ]
     },
     "execution_count": 706,
     "metadata": {},
     "output_type": "execute_result"
    }
   ],
   "source": [
    "# Убедимся, что все student_id в датафрейме уникальны:\n",
    "df['student_id'].duplicated().sum()"
   ]
  },
  {
   "cell_type": "markdown",
   "metadata": {},
   "source": [
    "#### Сравнение ARPPU и ARPU в контрольной и тестовой группах"
   ]
  },
  {
   "cell_type": "markdown",
   "metadata": {},
   "source": [
    "Необходимо помнить, что не все пользователи из тех, что заходили на платформу в дни проведения эксперимента, совершали покупки.\n",
    "\n",
    "Для корректного расчета ARPPU оставим только тех пользователей, у кого revenue не равно 0. "
   ]
  },
  {
   "cell_type": "code",
   "execution_count": 37,
   "metadata": {},
   "outputs": [],
   "source": [
    "# Формируем контрольную и тестовую выборки для расчета ARPPU  \n",
    "control = df[(df['grp'] == 'A') & (df['rev'] > 0)]['rev']\n",
    "test = df[(df['grp'] == 'B') & (df['rev'] > 0)]['rev']"
   ]
  },
  {
   "cell_type": "code",
   "execution_count": 469,
   "metadata": {},
   "outputs": [
    {
     "data": {
      "image/png": "[encoded data removed]",
      "text/plain": [
       "<Figure size 360x360 with 1 Axes>"
      ]
     },
     "metadata": {},
     "output_type": "display_data"
    }
   ],
   "source": [
    "df1 = pd.DataFrame({'grp': 'A', 'rev': control})\n",
    "df2 = pd.DataFrame({'grp': 'B', 'rev': test})\n",
    "show_piechart(pd.concat([df1, df2]), 'Соотношение клиентов в контрольной и экспериментальной (тестовой) группах')"
   ]
  },
  {
   "cell_type": "code",
   "execution_count": 400,
   "metadata": {},
   "outputs": [
    {
     "name": "stdout",
     "output_type": "stream",
     "text": [
      "Количество платежей в контрольной выборке: 107.\n",
      "Количество платежей в тестовой выборке: 433.\n"
     ]
    }
   ],
   "source": [
    "print(\"Количество платежей в контрольной выборке: {}.\\nКоличество платежей в тестовой выборке: {}.\"\n",
    "      .format(control.size, test.size)) "
   ]
  },
  {
   "cell_type": "markdown",
   "metadata": {},
   "source": [
    "Построим графики распределения контрольной и тестовой выборок, чтобы определиться с методом для сравнения ARPPU в выборках."
   ]
  },
  {
   "cell_type": "code",
   "execution_count": 383,
   "metadata": {},
   "outputs": [
    {
     "data": {
      "image/png": "[encoded data removed]",
      "text/plain": [
       "<Figure size 1080x360 with 2 Axes>"
      ]
     },
     "metadata": {},
     "output_type": "display_data"
    }
   ],
   "source": [
    "fig, (ax1, ax2) = plt.subplots(ncols=2, figsize=(15, 5), sharey=True)\n",
    "sns.histplot(control, ax=ax1)\n",
    "ax1.set_title('Распределение контрольной выборки')\n",
    "ax1.set(xlabel='Сумма платежа (revenue), руб.', ylabel='Количество платежей')\n",
    "\n",
    "sns.histplot(test, ax=ax2)\n",
    "ax2.set_title('Распределение тестовой выборки')\n",
    "ax2.set(xlabel='Сумма платежа (revenue), руб.', ylabel='Количество платежей')\n",
    "None"
   ]
  },
  {
   "cell_type": "code",
   "execution_count": 63,
   "metadata": {},
   "outputs": [
    {
     "name": "stdout",
     "output_type": "stream",
     "text": [
      "ARPPU в контрольной выборке: 860.71.\n",
      "ARPPU в тестовой выборке: 1107.00.\n",
      "\n",
      "ARPU в контрольной выборке: 58.88.\n",
      "ARPU в тестовой выборке: 69.34.\n",
      "\n",
      "Медиана суммы платежа в контрольной выборке: 690.0.\n",
      "Медиана суммы платежа в тестовой выборке: 880.0.\n"
     ]
    }
   ],
   "source": [
    "# ARPPU (общая сумма платежей / количество плательщиков)\n",
    "print(\"ARPPU в контрольной выборке: {:.2f}.\\nARPPU в тестовой выборке: {:.2f}.\"\n",
    "      .format(control.mean(), test.mean())) \n",
    "print()\n",
    "# ARPU (общая сумма платежей / количество посетителей сайта)\n",
    "print(\"ARPU в контрольной выборке: {:.2f}.\\nARPU в тестовой выборке: {:.2f}.\"\n",
    "      .format(control.sum() / df[(df['grp'] == 'A')]['grp'].size,\n",
    "              test.sum() / df[(df['grp'] == 'B')]['grp'].size)) \n",
    "print()\n",
    "print(\"Медиана суммы платежа в контрольной выборке: {}.\\nМедиана суммы платежа в тестовой выборке: {}.\"\n",
    "      .format(control.median(), test.median())) "
   ]
  },
  {
   "cell_type": "markdown",
   "metadata": {},
   "source": [
    "Видно, что различия между контрольной и тестовой выборками есть, однако необходимо это подтвердить с помощью статистики.\n",
    "\n",
    "Распределения платежей в обеих группах отличаются от нормального (не симметричные, с выбросами). Кроме того, сохраняется дисбаланс в количестве наблюдений, заданный изначальным дизайном эсперимента. Поэтому применение t-теста не представляется возможным.\n",
    "\n",
    "Также не подходит и Манн-Уитни, который, как и любой статистический оценщик, не очень приветлив к дисбалансу между группами. Это сказывается в первую очередь на мощности критерия – чем сильнее дисбаланс, тем реже критерий будет обнаруживать реальную разницу.\n",
    "\n",
    "Кроме того, критерий Манна-Уитни проверяет гипотезу о равенстве распределений, в то время как нам нужно сравнить средние(ARPPU), ARPU и, судя по виду распределений, медианы выборок. Поэтому для проверки есть ли статистически значимые отличия будем использовать бутстрап. "
   ]
  },
  {
   "cell_type": "code",
   "execution_count": 366,
   "metadata": {},
   "outputs": [],
   "source": [
    "def get_bootstrap(\n",
    "    # числовые значения первой выборки\n",
    "    data_column_1,\n",
    "    # числовые значения второй выборки\n",
    "    data_column_2,\n",
    "    # количество бутстрап-подвыборок\n",
    "    boot_it=1000, \n",
    "    # интересующая нас статистика\n",
    "    statistic=np.mean, \n",
    "    # уровень значимости\n",
    "    bootstrap_conf_level=0.95 \n",
    "):\n",
    "    \"\"\"\n",
    "    Функция для проверки гипотез с помощью бутстрапа.\n",
    "    Возвращаемые значения:\n",
    "        boot_data - список значений статистики, рассчитанных на бутстрап-подвыборках(длина списка равна boot_it).\n",
    "        ci - доверительный интервал\n",
    "        p_value - p_value\n",
    "    \"\"\"     \n",
    "    boot_len = max([len(data_column_1), len(data_column_2)])\n",
    "    boot_data = []\n",
    "    # извлекаем подвыборки\n",
    "    for i in tqdm(range(boot_it)): \n",
    "        samples_1 = data_column_1.sample(\n",
    "            boot_len, \n",
    "            # параметр возвращения\n",
    "            replace=True \n",
    "        ).values\n",
    "        \n",
    "        samples_2 = data_column_2.sample(\n",
    "            boot_len, \n",
    "            replace=True\n",
    "        ).values\n",
    "        # - применяем статистику\n",
    "        boot_data.append(statistic(samples_1 - samples_2)) \n",
    "        \n",
    "    pd_boot_data = pd.DataFrame(boot_data)\n",
    "        \n",
    "    left_quant = (1 - bootstrap_conf_level) / 2\n",
    "    right_quant = 1 - (1 - bootstrap_conf_level) / 2\n",
    "    ci = pd_boot_data.quantile([left_quant, right_quant])\n",
    "        \n",
    "    p_1 = norm.cdf(\n",
    "        x=0, \n",
    "        loc=np.mean(boot_data), \n",
    "        scale=np.std(boot_data)\n",
    "    )\n",
    "    p_2 = norm.cdf(\n",
    "        x=0, \n",
    "        loc=-np.mean(boot_data), \n",
    "        scale=np.std(boot_data)\n",
    "    )\n",
    "    p_value = min(p_1, p_2) * 2\n",
    "        \n",
    "    # Визуализация\n",
    "    plt.hist(pd_boot_data[0], bins=50)\n",
    "    \n",
    "    plt.style.use('ggplot')\n",
    "    plt.vlines(ci, ymin=0, ymax=50, linestyle='--')\n",
    "    plt.xlabel('boot_data')\n",
    "    plt.ylabel('frequency')\n",
    "    plt.title(\"Histogram of boot_data\")\n",
    "    plt.show()\n",
    "       \n",
    "    return {\"boot_data\": boot_data, \n",
    "            \"ci\": ci, \n",
    "            \"p_value\": p_value}"
   ]
  },
  {
   "cell_type": "code",
   "execution_count": 386,
   "metadata": {},
   "outputs": [
    {
     "data": {
      "application/vnd.jupyter.widget-view+json": {
       "model_id": "34a796bfe9844526931156d108f6177a",
       "version_major": 2,
       "version_minor": 0
      },
      "text/plain": [
       "  0%|          | 0/2000 [00:00<?, ?it/s]"
      ]
     },
     "metadata": {},
     "output_type": "display_data"
    },
    {
     "data": {
      "image/png": "[encoded data removed]",
      "text/plain": [
       "<Figure size 432x288 with 1 Axes>"
      ]
     },
     "metadata": {},
     "output_type": "display_data"
    }
   ],
   "source": [
    "# Строим распределение бутстрап-выборок для ARPPU; в результате хранится разница двух распределений, ДИ и pvalue \n",
    "booted_data = get_bootstrap(control, test, boot_it=2000) "
   ]
  },
  {
   "cell_type": "code",
   "execution_count": 387,
   "metadata": {},
   "outputs": [
    {
     "data": {
      "text/plain": [
       "3.312191166543306e-06"
      ]
     },
     "execution_count": 387,
     "metadata": {},
     "output_type": "execute_result"
    }
   ],
   "source": [
    "booted_data[\"p_value\"]"
   ]
  },
  {
   "cell_type": "code",
   "execution_count": 388,
   "metadata": {},
   "outputs": [
    {
     "data": {
      "text/html": [
       "<div>\n",
       "<style scoped>\n",
       "    .dataframe tbody tr th:only-of-type {\n",
       "        vertical-align: middle;\n",
       "    }\n",
       "\n",
       "    .dataframe tbody tr th {\n",
       "        vertical-align: top;\n",
       "    }\n",
       "\n",
       "    .dataframe thead th {\n",
       "        text-align: right;\n",
       "    }\n",
       "</style>\n",
       "<table border=\"1\" class=\"dataframe\">\n",
       "  <thead>\n",
       "    <tr style=\"text-align: right;\">\n",
       "      <th></th>\n",
       "      <th>0</th>\n",
       "    </tr>\n",
       "  </thead>\n",
       "  <tbody>\n",
       "    <tr>\n",
       "      <th>0.025</th>\n",
       "      <td>-348.145621</td>\n",
       "    </tr>\n",
       "    <tr>\n",
       "      <th>0.975</th>\n",
       "      <td>-140.262191</td>\n",
       "    </tr>\n",
       "  </tbody>\n",
       "</table>\n",
       "</div>"
      ],
      "text/plain": [
       "                0\n",
       "0.025 -348.145621\n",
       "0.975 -140.262191"
      ]
     },
     "execution_count": 388,
     "metadata": {},
     "output_type": "execute_result"
    }
   ],
   "source": [
    "# Доверительный интервал\n",
    "booted_data[\"ci\"]"
   ]
  },
  {
   "cell_type": "markdown",
   "metadata": {},
   "source": [
    "0 не попал в доверительный интервал распредения bootstrap, p_value < 0.05, а, значит, на заданном уровне значимости мы **отклоняем нулевую гипотезу** о том, что между ARPPU контрольной и тестовой групп нет статистически значимых отличий.\n",
    "\n",
    "Теперь сравним ARPU групп."
   ]
  },
  {
   "cell_type": "code",
   "execution_count": 707,
   "metadata": {},
   "outputs": [],
   "source": [
    "# Подготовим выборки для расчета ARPU, заполнив все NaN-значения оплат нулями.\n",
    "control_ARPU = df[df.grp == 'A'].rev.fillna(0)\n",
    "test_ARPU = df[df.grp == 'B'].rev.fillna(0)"
   ]
  },
  {
   "cell_type": "code",
   "execution_count": 708,
   "metadata": {},
   "outputs": [
    {
     "data": {
      "application/vnd.jupyter.widget-view+json": {
       "model_id": "c24928c0e0c241bca0d591b8523c71ca",
       "version_major": 2,
       "version_minor": 0
      },
      "text/plain": [
       "  0%|          | 0/2000 [00:00<?, ?it/s]"
      ]
     },
     "metadata": {},
     "output_type": "display_data"
    },
    {
     "data": {
      "image/png": "[encoded data removed]",
      "text/plain": [
       "<Figure size 432x288 with 1 Axes>"
      ]
     },
     "metadata": {
      "needs_background": "light"
     },
     "output_type": "display_data"
    }
   ],
   "source": [
    "# Строим распределение бутстрап-выборок для ARPU \n",
    "booted_data_ARPU = get_bootstrap(control_ARPU, test_ARPU, boot_it=2000)"
   ]
  },
  {
   "cell_type": "code",
   "execution_count": 711,
   "metadata": {},
   "outputs": [
    {
     "data": {
      "text/plain": [
       "0.0552058083640986"
      ]
     },
     "execution_count": 711,
     "metadata": {},
     "output_type": "execute_result"
    }
   ],
   "source": [
    "booted_data_ARPU[\"p_value\"] "
   ]
  },
  {
   "cell_type": "code",
   "execution_count": 712,
   "metadata": {},
   "outputs": [
    {
     "data": {
      "text/html": [
       "<div>\n",
       "<style scoped>\n",
       "    .dataframe tbody tr th:only-of-type {\n",
       "        vertical-align: middle;\n",
       "    }\n",
       "\n",
       "    .dataframe tbody tr th {\n",
       "        vertical-align: top;\n",
       "    }\n",
       "\n",
       "    .dataframe thead th {\n",
       "        text-align: right;\n",
       "    }\n",
       "</style>\n",
       "<table border=\"1\" class=\"dataframe\">\n",
       "  <thead>\n",
       "    <tr style=\"text-align: right;\">\n",
       "      <th></th>\n",
       "      <th>0</th>\n",
       "    </tr>\n",
       "  </thead>\n",
       "  <tbody>\n",
       "    <tr>\n",
       "      <th>0.025</th>\n",
       "      <td>-21.342992</td>\n",
       "    </tr>\n",
       "    <tr>\n",
       "      <th>0.975</th>\n",
       "      <td>0.618920</td>\n",
       "    </tr>\n",
       "  </tbody>\n",
       "</table>\n",
       "</div>"
      ],
      "text/plain": [
       "               0\n",
       "0.025 -21.342992\n",
       "0.975   0.618920"
      ]
     },
     "execution_count": 712,
     "metadata": {},
     "output_type": "execute_result"
    }
   ],
   "source": [
    "# Доверительный интервал\n",
    "booted_data_ARPU[\"ci\"]"
   ]
  },
  {
   "cell_type": "markdown",
   "metadata": {},
   "source": [
    "0 попал в доверительный интервал распредения bootstrap, p-value > 0.05, а, значит, на заданном уровне значимости мы должны принять нулевую гипотезу о том, что между ARPU контрольной и тестовой групп нет статистически значимых отличий.\n",
    "\n",
    "Теперь сравним медианы выборок."
   ]
  },
  {
   "cell_type": "code",
   "execution_count": 54,
   "metadata": {},
   "outputs": [
    {
     "data": {
      "application/vnd.jupyter.widget-view+json": {
       "model_id": "ffb47549574c4392b01cf30cd51dbcd3",
       "version_major": 2,
       "version_minor": 0
      },
      "text/plain": [
       "  0%|          | 0/1000 [00:00<?, ?it/s]"
      ]
     },
     "metadata": {},
     "output_type": "display_data"
    }
   ],
   "source": [
    "data_column_1, data_column_2 = control, test\n",
    "boot_it = 1000\n",
    "boot_len = max([len(data_column_1), len(data_column_2)])\n",
    "boot_data_1, boot_data_2 = [], []\n",
    "# Извлекаем подвыборки\n",
    "for i in tqdm(range(boot_it)): \n",
    "    samples_1 = data_column_1.sample(boot_len, replace=True).values\n",
    "    samples_2 = data_column_2.sample(boot_len, replace=True).values\n",
    "    # По каждой подвыбоке считаем медиану и добавляем в соответствующий список\n",
    "    boot_data_1.append(np.median(samples_1))\n",
    "    boot_data_2.append(np.median(samples_2))"
   ]
  },
  {
   "cell_type": "code",
   "execution_count": 52,
   "metadata": {},
   "outputs": [],
   "source": [
    "# Вычисляем разницу\n",
    "boot_data = np.array(boot_data_1) - np.array(boot_data_2)"
   ]
  },
  {
   "cell_type": "code",
   "execution_count": 61,
   "metadata": {},
   "outputs": [
    {
     "name": "stdout",
     "output_type": "stream",
     "text": [
      "Доверительный интервал:\n",
      " 0.025   -400.0\n",
      "0.975   -150.0\n",
      "dtype: float64\n"
     ]
    }
   ],
   "source": [
    "# Вычисляем доверительный интервал в получившемся распределении разницы\n",
    "boot_conf_level = 0.95\n",
    "left_ci = (1 - boot_conf_level) / 2\n",
    "right_ci = 1 - (1 - boot_conf_level) / 2\n",
    "ci = pd.Series(boot_data).quantile([left_ci, right_ci])\n",
    "\n",
    "print('Доверительный интервал:\\n', ci)"
   ]
  },
  {
   "cell_type": "code",
   "execution_count": 62,
   "metadata": {},
   "outputs": [
    {
     "data": {
      "image/png": "[encoded data removed]",
      "text/plain": [
       "<Figure size 432x288 with 1 Axes>"
      ]
     },
     "metadata": {},
     "output_type": "display_data"
    }
   ],
   "source": [
    "plt.hist(boot_data, bins=5)\n",
    "plt.style.use('ggplot')\n",
    "plt.vlines(ci, ymin=0, ymax=5, linestyle='--')\n",
    "plt.xlabel('boot_data')\n",
    "plt.ylabel('frequency')\n",
    "plt.title(\"Histogram of boot_data\")\n",
    "plt.show()"
   ]
  },
  {
   "cell_type": "markdown",
   "metadata": {},
   "source": [
    "0 не попал в доверительный интервал распредения разницы, а, значит, на заданном уровне значимости мы **отклоняем нулевую гипотезу** о том, что между медианами контрольной и тестовой групп нет статистически значимых отличий.\n",
    "\n",
    "Таким образом, применение новой механики оплаты позволяет добиться статистически значимого увеличения ARPPU(по сути, среднего чека на платящего пользователя), при отсутствии статистически значимых отличий в ARPU. "
   ]
  },
  {
   "cell_type": "markdown",
   "metadata": {},
   "source": [
    "#### Сравнение СR в контрольной и тестовой группах"
   ]
  },
  {
   "cell_type": "markdown",
   "metadata": {},
   "source": [
    "Как отмечалось ранее, не все пользователи из тех, что заходили на платформу во время проведения экперимента, совершали покупки. Необходимо удостовериться, что рост ARPPU(среднего чека на платящего пользователя) в тестовой группе не сопровождается снижением конверсии в покупку (CR).  \n",
    "\n",
    "Для начала рассчитаем значения CR для обеих групп."
   ]
  },
  {
   "cell_type": "code",
   "execution_count": 599,
   "metadata": {},
   "outputs": [
    {
     "name": "stdout",
     "output_type": "stream",
     "text": [
      "CR в контрольной выборке: 6.841.\n",
      "CR в тестовой выборке: 6.278. \n",
      "Разность CR: 0.563.\n"
     ]
    }
   ],
   "source": [
    "a_CR = (control.size / control_ARPU.size) * 100\n",
    "b_CR = (test.size / test_ARPU.size) * 100\n",
    "print(\"CR в контрольной выборке: {:.3f}.\\nCR в тестовой выборке: {:.3f}. \\nРазность CR: {:.3f}.\"\n",
    "      .format(a_CR, b_CR, a_CR - b_CR))"
   ]
  },
  {
   "cell_type": "markdown",
   "metadata": {},
   "source": [
    "CR контрольной выборки немного выше CR тестовой выборки, однако следует проверить, является ли эта разница статистически значимой."
   ]
  },
  {
   "cell_type": "code",
   "execution_count": 488,
   "metadata": {},
   "outputs": [
    {
     "data": {
      "text/plain": [
       "array([[ 107, 1457],\n",
       "       [ 433, 6480]])"
      ]
     },
     "execution_count": 488,
     "metadata": {},
     "output_type": "execute_result"
    }
   ],
   "source": [
    "# Преобразуем данные в numpy-матрицу 2x2 для вычисления критерия хи-квадрат Пирсона.\n",
    "T = np.array([[control.size, (control_ARPU.size - control.size)], [test.size, (test_ARPU.size - test.size)]])\n",
    "T"
   ]
  },
  {
   "cell_type": "code",
   "execution_count": 493,
   "metadata": {},
   "outputs": [
    {
     "name": "stdout",
     "output_type": "stream",
     "text": [
      "p-value = 0.3981\n"
     ]
    }
   ],
   "source": [
    "import scipy\n",
    "print('p-value = {:.4f}'.format(scipy.stats.chi2_contingency(T, correction=False)[1]))"
   ]
  },
  {
   "cell_type": "markdown",
   "metadata": {},
   "source": [
    "Расчетное значение  p-value равно 0.3981, а поскольку принятый в данном исследовании уровень значимости равен 0,05, то при p-value > 0.05 мы принимаем нулевую гипотезу о равенстве значений CR. \n",
    "\n",
    "То есть применение новой механики оплаты не повлияло на конверсию сайта.\n",
    "\n",
    "**Вывод:** новая механика оплаты позволяет увеличить средний доход на платящего пользователя (ARPPU) при сохранении того же уровня конверсии в покупку (CR), в связи с чем рекомендуется ее распространение на всех пользователей сайта. "
   ]
  },
  {
   "cell_type": "markdown",
   "metadata": {},
   "source": [
    "### 2. Расширение функционала (дополнительное задание)"
   ]
  },
  {
   "cell_type": "markdown",
   "metadata": {},
   "source": [
    "1. Реализовать функцию, которая будет автоматически подгружать информацию из дополнительного файла groups_add.csv (заголовки могут отличаться) и на основании дополнительных параметров пересчитывать метрики.\n",
    "\n",
    "2. Реализовать функцию, которая будет строить графики по получаемым метрикам."
   ]
  },
  {
   "cell_type": "code",
   "execution_count": 64,
   "metadata": {},
   "outputs": [],
   "source": [
    "def get_metrics(\n",
    "    # ссылка на допольнительный csv-файл, расположенный на Яндекс.Диске\n",
    "    groups_add_url,\n",
    "    # ранее загруженный датафрейм с id всех пользователей, участвующих в эксперименте\n",
    "    groups=groups, \n",
    "    # ранее загруженный датафрейм с id активных пользователей\n",
    "    active_studs=active_studs,\n",
    "    # ранее загруженный датафрейм с оплатами пользователей\n",
    "    checks=checks \n",
    "):\n",
    "    \"\"\"\n",
    "    Функция автоматически подгружает информацию из дополнительного файла groups_add.csv (заголовки могут отличаться), и,\n",
    "    на основании дополнительных параметров, пересчитывает метрики.\n",
    "    Возвращаемые значения: словарь с пересчитанными метриками (ARPPU, ARPU, медиана, CR)        \n",
    "    \"\"\"     \n",
    "    # Загружаем groups_add.csv в pandas dataframe\n",
    "    groups_add = pd.read_csv(get_download_url(groups_add_url), sep=',')\n",
    "    \n",
    "    # Делаем заголовки столбцов в новом и старом файлах одинаковыми\n",
    "    c_groups = groups.columns\n",
    "    c_groups_add = groups_add.columns\n",
    "    groups_add = groups_add.rename(columns={c_groups_add[0]: c_groups[0], c_groups_add[1]: c_groups[1]})\n",
    "    \n",
    "    # Объединяем новый и старый файлы \n",
    "    all = pd.concat([groups_add, groups])\n",
    "\n",
    "    # Проверим, есть ли дублирующтеся значения id\n",
    "    if all['id'].duplicated().sum():\n",
    "        #  Если такие значения есть, оставляем только первое значение\n",
    "        all = all.drop_duplicates(subset=['id'], keep=\"first\")    \n",
    "    \n",
    "    # Объединяем all с файлом, в котором указаны активные студенты\n",
    "    all = all.merge(active_studs, how='left', left_on='id', right_on='student_id')\n",
    "    # Переименовываем колонку 'student_id' в 'active'\n",
    "    all = all.rename(columns={'student_id': 'active'})\n",
    "    # Присваиваем NaN в active значения 0, не NaN - 1, чтобы обозначить активных студентов\n",
    "    all['active'] = all['active'].apply(lambda x: 0 if math.isnan(x) else 1) \n",
    "    \n",
    "    # Объединяем all с файлом с оплатами, заполняем NaN в колонке rev(\"revenue\", \"доход\") нулями\n",
    "    all = all.merge(checks, how='left', left_on='id', right_on='student_id').drop(['student_id'], axis=1)\n",
    "    all['rev'] = all['rev'].fillna(0)\n",
    "    \n",
    "    # Формируем контрольную и тестовую выборки для расчетов\n",
    "    control = all[(all['grp'] == 'A') & (all['rev'] > 0)]['rev']\n",
    "    test = all[(all['grp'] == 'B') & (all['rev'] > 0)]['rev']\n",
    "    \n",
    "    # Пересчитываем метрики\n",
    "    ARPPU_control = control.mean()\n",
    "    ARPPU_test = test.mean()\n",
    "\n",
    "    ARPU_control = control.sum() / all[(all['grp'] == 'A') & (all['active'] == 1)]['grp'].size\n",
    "    ARPU_test = test.sum() / all[(all['grp'] == 'B') & (all['active'] == 1)]['grp'].size\n",
    "\n",
    "    Median_control = control.median()\n",
    "    Median_test = test.median()\n",
    "\n",
    "    CR_control = (control.size / all[(all['grp'] == 'A') & (all['active'] == 1)].rev.fillna(0).size) * 100\n",
    "    CR_test = (test.size / all[(all['grp'] == 'B') & (all['active'] == 1)].rev.fillna(0).size) * 100\n",
    "    \n",
    "    return {'ARPPU_control': ARPPU_control,\n",
    "            'ARPPU_test': ARPPU_test,\n",
    "            'ARPU_control': ARPU_control,\n",
    "            'ARPU_test': ARPU_test,\n",
    "            'Median_control': Median_control,\n",
    "            'Median_test': Median_test,\n",
    "            'CR_control': CR_control,\n",
    "            'CR_test': CR_test}"
   ]
  },
  {
   "cell_type": "code",
   "execution_count": 65,
   "metadata": {},
   "outputs": [],
   "source": [
    "metrics = get_metrics('https://disk.yandex.ru/d/3aARY-P9pfaksg')"
   ]
  },
  {
   "cell_type": "code",
   "execution_count": 66,
   "metadata": {},
   "outputs": [],
   "source": [
    "def show_metrics(metrics=metrics):\n",
    "    \"\"\"\n",
    "    Функция строит графики по получаемым метрикам.\n",
    "    \"\"\"\n",
    "    # Выбираем \"денежные\" метрики (ARPPU, ARPU, медианы)\n",
    "    revenue_metics = list(metrics.items())[:-2]\n",
    "    # Формируем из них датафрейм\n",
    "    t1 = pd.DataFrame.from_dict(revenue_metics).rename(columns={0: 'Metrics', 1: 'Revenue, rub.'}).set_index('Metrics')\n",
    "    # Строим график\n",
    "    ax1 = t1.plot.bar()\n",
    "    ax1.set_title('ARPPU, ARPU, медианы в контрольной и тестовой группах')  \n",
    "\n",
    "    # Выбираем CR\n",
    "    CR_metics = list(metrics.items())[-2:]\n",
    "    # Формируем из них датафрейм\n",
    "    t2 = pd.DataFrame.from_dict(CR_metics).rename(columns={0: 'CR', 1: 'CR, %'}).set_index('CR')\n",
    "    # Строим график\n",
    "    ax2 = t2.plot.bar()\n",
    "    ax2.set_title('CR в контрольной и тестовой группах')\n",
    "    None"
   ]
  },
  {
   "cell_type": "code",
   "execution_count": 28,
   "metadata": {},
   "outputs": [
    {
     "data": {
      "image/png": "[encoded data removed]",
      "text/plain": [
       "<Figure size 432x288 with 1 Axes>"
      ]
     },
     "metadata": {
      "needs_background": "light"
     },
     "output_type": "display_data"
    },
    {
     "data": {
      "image/png": "[encoded data removed]",
      "text/plain": [
       "<Figure size 432x288 with 1 Axes>"
      ]
     },
     "metadata": {
      "needs_background": "light"
     },
     "output_type": "display_data"
    }
   ],
   "source": [
    "show_metrics(metrics)"
   ]
  }
 ],
 "metadata": {
  "kernelspec": {
   "display_name": "Python 3 (ipykernel)",
   "language": "python",
   "name": "python3"
  },
  "language_info": {
   "codemirror_mode": {
    "name": "ipython",
    "version": 3
   },
   "file_extension": ".py",
   "mimetype": "text/x-python",
   "name": "python",
   "nbconvert_exporter": "python",
   "pygments_lexer": "ipython3",
   "version": "3.9.7"
  }
 },
 "nbformat": 4,
 "nbformat_minor": 4
}
